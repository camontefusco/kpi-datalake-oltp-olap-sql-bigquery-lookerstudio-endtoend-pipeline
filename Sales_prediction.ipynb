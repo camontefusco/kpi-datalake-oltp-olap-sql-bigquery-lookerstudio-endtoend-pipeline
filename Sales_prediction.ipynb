{
  "nbformat": 4,
  "nbformat_minor": 0,
  "metadata": {
    "colab": {
      "provenance": [],
      "authorship_tag": "ABX9TyMBjNQZeWtPFiGQ9yckqCMF",
      "include_colab_link": true
    },
    "kernelspec": {
      "name": "python3",
      "display_name": "Python 3"
    },
    "language_info": {
      "name": "python"
    }
  },
  "cells": [
    {
      "cell_type": "markdown",
      "metadata": {
        "id": "view-in-github",
        "colab_type": "text"
      },
      "source": [
        "<a href=\"https://colab.research.google.com/github/Zehando/business-kpi-dashboards/blob/main/Sales_prediction.ipynb\" target=\"_parent\"><img src=\"https://colab.research.google.com/assets/colab-badge.svg\" alt=\"Open In Colab\"/></a>"
      ]
    },
    {
      "cell_type": "markdown",
      "source": [
        "##Loading data"
      ],
      "metadata": {
        "id": "c9SDJ4ZdOrqY"
      }
    },
    {
      "cell_type": "code",
      "execution_count": null,
      "metadata": {
        "id": "rE2vzNDnOC4S"
      },
      "outputs": [],
      "source": [
        "import pandas as pd\n",
        "\n",
        "df = pd.read_csv(\"/GoExplore - dailysalestable.csv\")\n",
        "display(df.head())"
      ]
    },
    {
      "cell_type": "markdown",
      "source": [
        "##cleaning date column"
      ],
      "metadata": {
        "id": "U2zis2_MO2r6"
      }
    },
    {
      "cell_type": "code",
      "source": [
        "df['Date'] = pd.to_datetime(df['Date'], dayfirst=True)\n",
        "monthly_sales_df = df.groupby([df['Date'].dt.year, df['Date'].dt.month])['Total sale price'].sum()\n",
        "monthly_sales_df.index.names = ['Year', 'Month']\n",
        "monthly_sales_df = monthly_sales_df.reset_index()\n",
        "monthly_sales_df.columns = ['Year', 'Month', 'Total_Sales']\n",
        "monthly_sales_df = monthly_sales_df.sort_values(by=['Year', 'Month']).reset_index(drop=True)\n",
        "display(monthly_sales_df.head())\n",
        "display(monthly_sales_df.tail())"
      ],
      "metadata": {
        "id": "ez2paTI8OVED"
      },
      "execution_count": null,
      "outputs": []
    },
    {
      "cell_type": "markdown",
      "source": [
        "##Plotting data, training model and forecasting sales for rest of the year.\n",
        "\n",
        "here I have used a Seasonal Exponential Smoothing (Holt-Winters) model was trained on the historical data to capture the trend and seasonality."
      ],
      "metadata": {
        "id": "jNMGgmBmO-Wz"
      }
    },
    {
      "cell_type": "code",
      "source": [
        "import matplotlib.pyplot as plt\n",
        "\n",
        "plt.figure(figsize=(12, 6))\n",
        "plt.plot(monthly_sales_df['Year'].astype(str) + '-' + monthly_sales_df['Month'].astype(str), monthly_sales_df['Total_Sales'])\n",
        "plt.title('Monthly Sales Over Time')\n",
        "plt.xlabel('Date')\n",
        "plt.ylabel('Total Sales')\n",
        "plt.xticks(rotation=45)\n",
        "plt.tight_layout()\n",
        "plt.show()"
      ],
      "metadata": {
        "id": "J3OY8i6iOac4"
      },
      "execution_count": null,
      "outputs": []
    },
    {
      "cell_type": "code",
      "source": [
        "from statsmodels.tsa.holtwinters import ExponentialSmoothing\n",
        "\n",
        "model = ExponentialSmoothing(monthly_sales_df['Total_Sales'], seasonal='add', seasonal_periods=12)\n",
        "fitted_model = model.fit()"
      ],
      "metadata": {
        "id": "lTiCS3IcOe-c"
      },
      "execution_count": null,
      "outputs": []
    },
    {
      "cell_type": "code",
      "source": [
        "forecast_2018_rest = fitted_model.forecast(steps=5)\n",
        "print(\"Forecasted monthly sales for the rest of 2018:\")\n",
        "display(forecast_2018_rest.apply(lambda x: f'${x:,.2f}'))"
      ],
      "metadata": {
        "id": "1jFN4GfjOg9P"
      },
      "execution_count": null,
      "outputs": []
    },
    {
      "cell_type": "code",
      "source": [
        "import matplotlib.pyplot as plt\n",
        "import pandas as pd\n",
        "\n",
        "fig, ax = plt.subplots(figsize=(12, 6))\n",
        "\n",
        "# Plot historical sales\n",
        "historical_dates = monthly_sales_df['Year'].astype(str) + '-' + monthly_sales_df['Month'].astype(str).str.zfill(2)\n",
        "ax.plot(historical_dates, monthly_sales_df['Total_Sales'], label='Historical Sales')\n",
        "\n",
        "# Plot forecasted sales\n",
        "last_historical_date_str = historical_dates.iloc[-1]\n",
        "last_historical_date = pd.to_datetime(last_historical_date_str)\n",
        "forecast_dates = pd.date_range(start=last_historical_date + pd.DateOffset(months=1), periods=len(forecast_2018_rest), freq='MS')\n",
        "forecast_dates_str = forecast_dates.strftime('%Y-%m')\n",
        "ax.plot(forecast_dates_str, forecast_2018_rest, label='Forecasted Sales', linestyle='--')\n",
        "\n",
        "ax.set_title('Historical and Forecasted Monthly Sales')\n",
        "ax.set_xlabel('Date')\n",
        "ax.set_ylabel('Total Sales')\n",
        "ax.legend()\n",
        "plt.xticks(rotation=45)\n",
        "plt.tight_layout()\n",
        "plt.show()"
      ],
      "metadata": {
        "id": "BmRV_Sa3Opk8"
      },
      "execution_count": null,
      "outputs": []
    }
  ]
}
